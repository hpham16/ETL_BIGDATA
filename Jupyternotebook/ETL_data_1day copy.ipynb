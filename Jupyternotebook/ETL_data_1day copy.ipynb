{
 "cells": [
  {
   "cell_type": "code",
   "execution_count": 1,
   "metadata": {},
   "outputs": [],
   "source": [
    "import findspark\n",
    "import pyspark\n",
    "from pyspark.sql import SparkSession\n",
    "from pyspark.sql.functions import *\n",
    "import os \n",
    "from datetime import datetime\n"
   ]
  },
  {
   "cell_type": "code",
   "execution_count": 2,
   "metadata": {},
   "outputs": [],
   "source": [
    "spark = SparkSession.builder.config(\"spark.driver.memory\", \"4g\").getOrCreate()"
   ]
  },
  {
   "cell_type": "code",
   "execution_count": 3,
   "metadata": {},
   "outputs": [],
   "source": [
    "#đọc data\n",
    "def read_data(path):\n",
    "    df = spark.read.json(path)\n",
    "    return df\n",
    "\n",
    "#Xử lý data\n",
    "def tranfrom_data(df):\n",
    "    df = df.select('_source.*')\n",
    "    df = df.drop('Mac')\n",
    "    df.select('AppName').distinct()\n",
    "    df = df.withColumn(\"Category\",\n",
    "        when((col(\"AppName\") == 'CHANNEL') | \n",
    "            (col(\"AppName\") =='KPLUS'), \"Truyền Hình\")\n",
    "        .when((col(\"AppName\") == 'VOD') | \n",
    "            (col(\"AppName\") =='FIMS'), \"Phim Truyện\")\n",
    "        .when((col(\"AppName\") == 'RELAX'), \"Giải Trí\")\n",
    "        .when((col(\"AppName\") == 'CHILD'), \"Thiếu Nhi\")\n",
    "        .when((col(\"AppName\") == 'SPORT'), \"Thể Thao\")\n",
    "        .otherwise(\"Error\"))\n",
    "    df = df.select('Contract','Category','TotalDuration')\n",
    "    return df\n",
    "\n",
    "#tổng hợp và pivot\n",
    "def summarize_and_pivot_data(df):\n",
    "    df = df.groupBy('Contract','Category').sum('TotalDuration').withColumnRenamed('sum(TotalDuration)','TotalDuration')\n",
    "    result =  df.groupBy('Contract').pivot('Category').sum('TotalDuration').fillna(0)\n",
    "    return result\n",
    "\n",
    "def convert_to_datevalue(value):\n",
    "    date_value = datetime.strptime(value, \"%Y%m%d\").date()\n",
    "    return date_value\n",
    "\n",
    "def date_range(start_date, end_date):\n",
    "    date_list = []\n",
    "    current_date = start_date\n",
    "    while current_date <= end_date:\n",
    "        date_list.append(current_date.strftime(\"%Y%m%d\"))  # Trả về định dạng chuỗi YYYYMMDD\n",
    "        current_date += timedelta(days=1)  # Sử dụng timedelta\n",
    "    return date_list\n",
    "\n",
    "def generate_date_range(from_date, to_date):\n",
    "    from_date = convert_to_datevalue(from_date)\n",
    "    to_date = convert_to_datevalue(to_date)\n",
    "    date_list = date_range(from_date, to_date)\n",
    "    return date_list\n",
    "\n",
    "#chuyển tên file thành ngày VD: 20220104.json thành 2022-01-04\n",
    "def convert_filename_to_date(filename):\n",
    "    # Lấy phần chuỗi chứa ngày từ tên file\n",
    "    date_str = filename.split('.')[0]  # Lấy chuỗi trước dấu chấm\n",
    "    # Chuyển đổi định dạng từ YYYYMMDD thành YYYY-MM-DD\n",
    "    date_obj = datetime.strptime(date_str, '%Y%m%d').date()  # Chuyển đổi thành đối tượng datetime\n",
    "    return date_obj\n",
    "\n",
    "#hàm đọc nhiều file và tổng hợp thành 1 files\n",
    "def read_listfile(list_file,path):\n",
    "    final_result = None\n",
    "    for file in list_file:\n",
    "        print(f\"==> Reading file {file} <==\")\n",
    "        path_new = path + '\\\\' + file + '.json'\n",
    "\n",
    "        data_now = read_data(path_new) #đọc\n",
    "        data_trans = tranfrom_data(data_now) #tranform\n",
    "        data_sum = summarize_and_pivot_data(data_trans) #summarize\n",
    "         \n",
    "        data_sum.show()\n",
    "        \n",
    "        dated = convert_filename_to_date(file)\n",
    "        data_now = data_sum.withColumn(\"date\", lit(dated))  # Thêm cột 'date'\n",
    "\n",
    "    if final_result is None:\n",
    "        final_result = data_now  # Gán giá trị lần đầu\n",
    "    else:\n",
    "        final_result = final_result.union(data_now)  # Nối với DataFrame hiện tại\n",
    "    return final_result\n",
    "\n",
    "def process_range_days(df):\n",
    "    print('------------------------')\n",
    "    print('Starting merce data range days')\n",
    "    result = df.groupBy('Contract') \\\n",
    "           .sum('Giải Trí', 'Phim Truyện', 'Thiếu Nhi', 'Thể Thao', 'Truyền Hình') \\\n",
    "           .withColumnRenamed('sum(Giải Trí)', 'Total_Giải_Trí') \\\n",
    "           .withColumnRenamed('sum(Phim Truyện)', 'Total_Phimm_Truyện') \\\n",
    "           .withColumnRenamed('sum(Thiếu Nhi)', 'Total_Thiếu_Nhi') \\\n",
    "           .withColumnRenamed('sum(Thể Thao)', 'Total_Thể_Thao') \\\n",
    "           .withColumnRenamed('sum(Truyền Hình)', 'Total_Truyền_Hình')\n",
    "    return result"
   ]
  },
  {
   "cell_type": "code",
   "execution_count": 4,
   "metadata": {},
   "outputs": [
    {
     "ename": "NameError",
     "evalue": "name 'timedelta' is not defined",
     "output_type": "error",
     "traceback": [
      "\u001b[1;31m---------------------------------------------------------------------------\u001b[0m",
      "\u001b[1;31mNameError\u001b[0m                                 Traceback (most recent call last)",
      "Cell \u001b[1;32mIn[4], line 2\u001b[0m\n\u001b[0;32m      1\u001b[0m path \u001b[38;5;241m=\u001b[39m \u001b[38;5;124m'\u001b[39m\u001b[38;5;124mD:\u001b[39m\u001b[38;5;130;01m\\\\\u001b[39;00m\u001b[38;5;124mHoc_DE\u001b[39m\u001b[38;5;130;01m\\\\\u001b[39;00m\u001b[38;5;124mData\u001b[39m\u001b[38;5;130;01m\\\\\u001b[39;00m\u001b[38;5;124mDataset\u001b[39m\u001b[38;5;130;01m\\\\\u001b[39;00m\u001b[38;5;124mlog_content\u001b[39m\u001b[38;5;124m'\u001b[39m\n\u001b[1;32m----> 2\u001b[0m list_file \u001b[38;5;241m=\u001b[39m \u001b[43mgenerate_date_range\u001b[49m\u001b[43m(\u001b[49m\u001b[38;5;124;43m'\u001b[39;49m\u001b[38;5;124;43m20220401\u001b[39;49m\u001b[38;5;124;43m'\u001b[39;49m\u001b[43m,\u001b[49m\u001b[43m \u001b[49m\u001b[38;5;124;43m'\u001b[39;49m\u001b[38;5;124;43m20220403\u001b[39;49m\u001b[38;5;124;43m'\u001b[39;49m\u001b[43m)\u001b[49m\n\u001b[0;32m      3\u001b[0m count_list \u001b[38;5;241m=\u001b[39m \u001b[38;5;28mlen\u001b[39m(list_file)\n\u001b[0;32m      5\u001b[0m \u001b[38;5;28mprint\u001b[39m(\u001b[38;5;124mf\u001b[39m\u001b[38;5;124m\"\u001b[39m\u001b[38;5;124m==> Starting read \u001b[39m\u001b[38;5;132;01m{\u001b[39;00mcount_list\u001b[38;5;132;01m}\u001b[39;00m\u001b[38;5;124m file <==\u001b[39m\u001b[38;5;124m\"\u001b[39m)\n",
      "Cell \u001b[1;32mIn[3], line 44\u001b[0m, in \u001b[0;36mgenerate_date_range\u001b[1;34m(from_date, to_date)\u001b[0m\n\u001b[0;32m     42\u001b[0m from_date \u001b[38;5;241m=\u001b[39m convert_to_datevalue(from_date)\n\u001b[0;32m     43\u001b[0m to_date \u001b[38;5;241m=\u001b[39m convert_to_datevalue(to_date)\n\u001b[1;32m---> 44\u001b[0m date_list \u001b[38;5;241m=\u001b[39m \u001b[43mdate_range\u001b[49m\u001b[43m(\u001b[49m\u001b[43mfrom_date\u001b[49m\u001b[43m,\u001b[49m\u001b[43m \u001b[49m\u001b[43mto_date\u001b[49m\u001b[43m)\u001b[49m\n\u001b[0;32m     45\u001b[0m \u001b[38;5;28;01mreturn\u001b[39;00m date_list\n",
      "Cell \u001b[1;32mIn[3], line 38\u001b[0m, in \u001b[0;36mdate_range\u001b[1;34m(start_date, end_date)\u001b[0m\n\u001b[0;32m     36\u001b[0m \u001b[38;5;28;01mwhile\u001b[39;00m current_date \u001b[38;5;241m<\u001b[39m\u001b[38;5;241m=\u001b[39m end_date:\n\u001b[0;32m     37\u001b[0m     date_list\u001b[38;5;241m.\u001b[39mappend(current_date\u001b[38;5;241m.\u001b[39mstrftime(\u001b[38;5;124m\"\u001b[39m\u001b[38;5;124m%\u001b[39m\u001b[38;5;124mY\u001b[39m\u001b[38;5;124m%\u001b[39m\u001b[38;5;124mm\u001b[39m\u001b[38;5;132;01m%d\u001b[39;00m\u001b[38;5;124m\"\u001b[39m))  \u001b[38;5;66;03m# Trả về định dạng chuỗi YYYYMMDD\u001b[39;00m\n\u001b[1;32m---> 38\u001b[0m     current_date \u001b[38;5;241m+\u001b[39m\u001b[38;5;241m=\u001b[39m \u001b[43mtimedelta\u001b[49m(days\u001b[38;5;241m=\u001b[39m\u001b[38;5;241m1\u001b[39m)  \u001b[38;5;66;03m# Sử dụng timedelta\u001b[39;00m\n\u001b[0;32m     39\u001b[0m \u001b[38;5;28;01mreturn\u001b[39;00m date_list\n",
      "\u001b[1;31mNameError\u001b[0m: name 'timedelta' is not defined"
     ]
    }
   ],
   "source": [
    "\n",
    "\n",
    "path = 'D:\\\\Hoc_DE\\\\Data\\\\Dataset\\\\log_content'\n",
    "list_file = generate_date_range('20220401', '20220403')\n",
    "count_list = len(list_file)\n",
    "\n",
    "print(f\"==> Starting read {count_list} file <==\")\n",
    "print('------------------------')\n",
    "df = read_listfile(list_file, path)\n",
    "\n",
    "final_result = process_range_days(df)\n",
    "final_result.show()\n"
   ]
  }
 ],
 "metadata": {
  "kernelspec": {
   "display_name": "Python 3",
   "language": "python",
   "name": "python3"
  },
  "language_info": {
   "codemirror_mode": {
    "name": "ipython",
    "version": 3
   },
   "file_extension": ".py",
   "mimetype": "text/x-python",
   "name": "python",
   "nbconvert_exporter": "python",
   "pygments_lexer": "ipython3",
   "version": "3.11.9"
  }
 },
 "nbformat": 4,
 "nbformat_minor": 2
}
