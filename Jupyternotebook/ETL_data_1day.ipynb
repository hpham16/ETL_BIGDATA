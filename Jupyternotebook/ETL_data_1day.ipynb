{
 "cells": [
  {
   "cell_type": "code",
   "execution_count": 1,
   "metadata": {},
   "outputs": [],
   "source": [
    "import findspark\n",
    "findspark.init()\n",
    "import pyspark\n",
    "from pyspark.sql import SparkSession\n",
    "from pyspark.sql.functions import *\n",
    "import os \n",
    "from datetime import datetime, timedelta\n"
   ]
  },
  {
   "cell_type": "code",
   "execution_count": 2,
   "metadata": {},
   "outputs": [],
   "source": [
    "spark = SparkSession.builder.config(\"spark.driver.memory\", \"4g\").getOrCreate()"
   ]
  },
  {
   "cell_type": "code",
   "execution_count": 3,
   "metadata": {},
   "outputs": [],
   "source": [
    "#đọc data\n",
    "def read_data(path):\n",
    "    df = spark.read.json(path)\n",
    "    return df"
   ]
  },
  {
   "cell_type": "code",
   "execution_count": 8,
   "metadata": {},
   "outputs": [
    {
     "name": "stdout",
     "output_type": "stream",
     "text": [
      "root\n",
      " |-- _id: string (nullable = true)\n",
      " |-- _index: string (nullable = true)\n",
      " |-- _score: long (nullable = true)\n",
      " |-- _source: struct (nullable = true)\n",
      " |    |-- AppName: string (nullable = true)\n",
      " |    |-- Contract: string (nullable = true)\n",
      " |    |-- Mac: string (nullable = true)\n",
      " |    |-- TotalDuration: long (nullable = true)\n",
      " |-- _type: string (nullable = true)\n",
      "\n",
      "+--------------------+-------+------+--------------------------------------+-----+\n",
      "|_id                 |_index |_score|_source                               |_type|\n",
      "+--------------------+-------+------+--------------------------------------+-----+\n",
      "|AX_momhia1FFivsGrn9o|history|0     |{KPLUS, HNH579912, 0C96E62FC55C, 254} |kplus|\n",
      "|AX_momhca1FFivsGrnvg|history|0     |{KPLUS, HUFD40665, CCEDDC333614, 1457}|kplus|\n",
      "|AX_momhaa1FFivsGrnny|history|0     |{KPLUS, HNH572635, B068E6A1C5F6, 2318}|kplus|\n",
      "|AX_momhca1FFivsGrnvv|history|0     |{KPLUS, HND141717, 08674EE8D2C2, 1452}|kplus|\n",
      "|AX_momhia1FFivsGrn98|history|0     |{KPLUS, HNH743103, 402343C25D7D, 251} |kplus|\n",
      "|AX_momg9a1FFivsGrnkS|history|0     |{KPLUS, HNH893773, B84DEE76D3B8, 924} |kplus|\n",
      "|AX_momhca1FFivsGrnwA|history|0     |{KPLUS, HND083642, B84DEE849A0F, 1444}|kplus|\n",
      "|AX_momhfa1FFivsGrn2u|history|0     |{KPLUS, DNFD74404, 90324BB44C39, 691} |kplus|\n",
      "|AX_momhca1FFivsGrnwP|history|0     |{KPLUS, DTFD21200, B84DEED27709, 1436}|kplus|\n",
      "|AX_momhca1FFivsGrnwU|history|0     |{KPLUS, LDFD05747, 0C96E6C95E53, 1434}|kplus|\n",
      "|AX_momhfa1FFivsGrn24|history|0     |{KPLUS, HNH063566, B84DEEDD1C85, 687} |kplus|\n",
      "|AX_momhia1FFivsGrn-W|history|0     |{KPLUS, HNH866786, 10394E2790A5, 248} |kplus|\n",
      "|AX_momhia1FFivsGrn-a|history|0     |{KPLUS, NBAAA1128, 10394E47C1AF, 247} |kplus|\n",
      "|AX_momhfa1FFivsGrn3J|history|0     |{KPLUS, HNH960439, B84DEED34371, 683} |kplus|\n",
      "|AX_momhia1FFivsGrn-k|history|0     |{KPLUS, HNJ035736, CCD4A1FA86A5, 246} |kplus|\n",
      "|AX_momhaa1FFivsGrnol|history|0     |{KPLUS, NTFD93673, B84DEEEF4763, 2288}|kplus|\n",
      "|AX_momhaa1FFivsGrnoq|history|0     |{KPLUS, HNJ063267, 10394E172CA7, 2282}|kplus|\n",
      "|AX_momg9a1FFivsGrnlF|history|0     |{KPLUS, HNH790383, 4CEBBD53378B, 906} |kplus|\n",
      "|AX_momhia1FFivsGrn-4|history|0     |{KPLUS, THFD12466, 5CEA1D893E1C, 242} |kplus|\n",
      "|AX_momhia1FFivsGrn-9|history|0     |{KPLUS, HNH566080, 802BF9E0DDC0, 242} |kplus|\n",
      "+--------------------+-------+------+--------------------------------------+-----+\n",
      "only showing top 20 rows\n",
      "\n"
     ]
    }
   ],
   "source": [
    "path = 'D:\\\\Hoc_DE\\\\Data\\\\Dataset\\\\log_content\\\\20220401.json'\n",
    "\n",
    "data = read_data(path)\n",
    "data.printSchema()\n",
    "data.show(truncate=False)"
   ]
  },
  {
   "cell_type": "code",
   "execution_count": 168,
   "metadata": {},
   "outputs": [],
   "source": [
    "def tranfrom_data(df) :\n",
    "    df = df.select('_source.*')\n",
    "    df = df.drop('Mac')\n",
    "    df.select('AppName').distinct()\n",
    "    df = df.withColumn(\"Category\",\n",
    "        when((col(\"AppName\") == 'CHANNEL') | \n",
    "            (col(\"AppName\") =='KPLUS'), \"Truyền Hình\")\n",
    "        .when((col(\"AppName\") == 'VOD') | \n",
    "            (col(\"AppName\") =='FIMS'), \"Phim Truyện\")\n",
    "        .when((col(\"AppName\") == 'RELAX'), \"Giải Trí\")\n",
    "        .when((col(\"AppName\") == 'CHILD'), \"Thiếu Nhi\")\n",
    "        .when((col(\"AppName\") == 'SPORT'), \"Thể Thao\")\n",
    "        .otherwise(\"Error\"))\n",
    "    df = df.select('Contract','Category','TotalDuration')\n",
    "    return df"
   ]
  },
  {
   "cell_type": "code",
   "execution_count": 169,
   "metadata": {},
   "outputs": [],
   "source": [
    "def summarize_and_pivot_data(df):\n",
    "    df = df.groupBy('Contract','Category').sum('TotalDuration').withColumnRenamed('sum(TotalDuration)','TotalDuration')\n",
    "    result =  df.groupBy('Contract').pivot('Category').sum('TotalDuration').fillna(0)\n",
    "    return result"
   ]
  },
  {
   "cell_type": "code",
   "execution_count": 170,
   "metadata": {},
   "outputs": [],
   "source": [
    "def process(path):\n",
    "    print('------------------------')\n",
    "    print('Starting read data')\n",
    "    data = read_data(path)\n",
    "    print('------------------------')\n",
    "    print('Starting tranfrom data')\n",
    "    data = tranfrom_data(data)\n",
    "    print('------------------------')\n",
    "    print('Starting summarize and pivot data')\n",
    "    result = summarize_and_pivot_data(data)\n",
    "    print('------------------------')\n",
    "    print('Task successfull')\n",
    "    return result"
   ]
  },
  {
   "cell_type": "code",
   "execution_count": 171,
   "metadata": {},
   "outputs": [],
   "source": [
    "# path = 'D:\\\\Hoc_DE\\\\Data\\\\Dataset\\\\log_content\\\\20220401.json'\n",
    "# date = '20-13-13'\n",
    "# final = process(path,date)\n",
    "# final.show()"
   ]
  },
  {
   "cell_type": "code",
   "execution_count": 195,
   "metadata": {},
   "outputs": [],
   "source": [
    "def convert_to_datevalue(value):\n",
    "    date_value = datetime.strptime(value, \"%Y%m%d\").date()\n",
    "    return date_value\n",
    "\n",
    "def date_range(start_date, end_date):\n",
    "    date_list = []\n",
    "    current_date = start_date\n",
    "    while current_date <= end_date:\n",
    "        date_list.append(current_date.strftime(\"%Y%m%d\"))  # Trả về định dạng chuỗi YYYYMMDD\n",
    "        current_date += timedelta(days=1)  # Sử dụng timedelta\n",
    "    return date_list\n",
    "\n",
    "def generate_date_range(from_date, to_date):\n",
    "    from_date = convert_to_datevalue(from_date)\n",
    "    to_date = convert_to_datevalue(to_date)\n",
    "    date_list = date_range(from_date, to_date)\n",
    "    return date_list\n",
    "\n",
    "def convert_filename_to_date(filename):\n",
    "    # Lấy phần chuỗi chứa ngày từ tên file\n",
    "    date_str = filename.split('.')[0]  # Lấy chuỗi trước dấu chấm\n",
    "    # Chuyển đổi định dạng từ YYYYMMDD thành YYYY-MM-DD\n",
    "    date_obj = datetime.strptime(date_str, '%Y%m%d').date()  # Chuyển đổi thành đối tượng datetime\n",
    "    return date_obj"
   ]
  },
  {
   "cell_type": "code",
   "execution_count": 173,
   "metadata": {},
   "outputs": [
    {
     "data": {
      "text/plain": [
       "DataFrame[_id: string, _index: string, _score: bigint, _source: struct<AppName:string,Contract:string,Mac:string,TotalDuration:bigint>, _type: string]"
      ]
     },
     "execution_count": 173,
     "metadata": {},
     "output_type": "execute_result"
    }
   ],
   "source": [
    "path = 'D:\\\\Hoc_DE\\\\Data\\\\Dataset\\\\log_content'\n",
    "list_file = os.listdir(path)\n",
    "list_file\n",
    "read_data(path + '\\\\' + list_file[0])"
   ]
  },
  {
   "cell_type": "code",
   "execution_count": 174,
   "metadata": {},
   "outputs": [],
   "source": [
    "def read_listfile(list_file,path):\n",
    "    final_result = None\n",
    "    a = 0\n",
    "    for file in list_file:\n",
    "        # print(f\"==> Processing file {file} <==\")\n",
    "        path_new = path + '\\\\' + list_file[a]\n",
    "        data_now = read_data(path_new)\n",
    "        date_data =convert_filename_to_date(file)\n",
    "        data_now = data_now.withColumn(\"date\", lit(date_data))  # Thêm cột 'date'\n",
    "\n",
    "\n",
    "    if final_result is None:\n",
    "        final_result = data_now  # Gán giá trị lần đầu\n",
    "    else:\n",
    "        final_result = final_result.union(data_now)  # Nối với DataFrame hiện tại\n",
    "    a = a + 1\n",
    "    return final_result"
   ]
  },
  {
   "cell_type": "code",
   "execution_count": 175,
   "metadata": {},
   "outputs": [],
   "source": [
    "list_file = os.listdir(path)\n",
    "path = 'D:\\\\Hoc_DE\\\\Data\\\\Dataset\\\\log_content'\n",
    "df = read_listfile(list_file, path)"
   ]
  },
  {
   "cell_type": "code",
   "execution_count": 178,
   "metadata": {},
   "outputs": [],
   "source": [
    "def process_30days(df):\n",
    "    print('------------------------')\n",
    "    print('Starting tranfrom data')\n",
    "    data = tranfrom_data(df)\n",
    "    print('------------------------')\n",
    "    print('Starting summarize and pivot data')\n",
    "    result = summarize_and_pivot_data(data)\n",
    "    print('------------------------')\n",
    "    print('Task successfull')\n",
    "    return result\n",
    "    "
   ]
  },
  {
   "cell_type": "code",
   "execution_count": 179,
   "metadata": {},
   "outputs": [
    {
     "name": "stdout",
     "output_type": "stream",
     "text": [
      "------------------------\n",
      "Starting tranfrom data\n",
      "------------------------\n",
      "Starting summarize and pivot data\n",
      "------------------------\n",
      "Task successfull\n",
      "+---------+--------+-----------+---------+--------+-----------+\n",
      "| Contract|Giải Trí|Phim Truyện|Thiếu Nhi|Thể Thao|Truyền Hình|\n",
      "+---------+--------+-----------+---------+--------+-----------+\n",
      "|HTFD11598|       0|       2884|        0|       0|        707|\n",
      "|HPFD48556|      69|          0|        0|       0|      92976|\n",
      "|NBFD10014|       0|          0|        0|       0|      84628|\n",
      "|HNH619088|       0|       8456|      234|       0|      65210|\n",
      "|HNH036174|       0|          0|        0|       0|       6049|\n",
      "|DNH067877|       0|          0|        0|       0|       5760|\n",
      "|SGH806190|       0|          0|        0|       0|       1131|\n",
      "|HDFD42710|       0|          0|        0|       0|      12096|\n",
      "|SGH674576|       0|       1535|        0|       0|       9910|\n",
      "|NDFD32943|       0|          0|        0|       0|       6269|\n",
      "|TNFD30439|       0|          0|        0|       0|       5238|\n",
      "|DNH083321|       0|          0|        0|       0|       1020|\n",
      "|SGH446342|       0|          0|        0|       0|      11428|\n",
      "|DLFD14250|       0|       4436|        0|       0|      12374|\n",
      "|HNH720916|       0|        538|        0|       0|      12535|\n",
      "|DNH055515|       0|       6755|        0|       0|       3729|\n",
      "|TND026221|       0|      18335|        0|       0|       1965|\n",
      "|DLFD29162|       0|          0|        0|       0|       5991|\n",
      "|SGH763326|       0|          0|        0|       0|       5744|\n",
      "|QAD003618|       0|          0|        0|       0|       5003|\n",
      "+---------+--------+-----------+---------+--------+-----------+\n",
      "only showing top 20 rows\n",
      "\n"
     ]
    }
   ],
   "source": [
    "final_result = process_30days(df)\n",
    "final_result.show()"
   ]
  },
  {
   "cell_type": "code",
   "execution_count": 197,
   "metadata": {},
   "outputs": [
    {
     "data": {
      "text/plain": [
       "['20220401', '20220402', '20220403']"
      ]
     },
     "execution_count": 197,
     "metadata": {},
     "output_type": "execute_result"
    }
   ],
   "source": [
    "list_file = generate_date_range('20220401', '20220403')\n",
    "list_file"
   ]
  }
 ],
 "metadata": {
  "kernelspec": {
   "display_name": "Python 3",
   "language": "python",
   "name": "python3"
  },
  "language_info": {
   "codemirror_mode": {
    "name": "ipython",
    "version": 3
   },
   "file_extension": ".py",
   "mimetype": "text/x-python",
   "name": "python",
   "nbconvert_exporter": "python",
   "pygments_lexer": "ipython3",
   "version": "3.11.9"
  }
 },
 "nbformat": 4,
 "nbformat_minor": 2
}
